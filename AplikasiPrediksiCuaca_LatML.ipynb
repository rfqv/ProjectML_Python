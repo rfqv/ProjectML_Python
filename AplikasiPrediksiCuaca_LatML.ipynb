{
  "nbformat": 4,
  "nbformat_minor": 0,
  "metadata": {
    "colab": {
      "provenance": [],
      "authorship_tag": "ABX9TyPKaeBuojDvHsD2PBdcV8+L",
      "include_colab_link": true
    },
    "kernelspec": {
      "name": "python3",
      "display_name": "Python 3"
    },
    "language_info": {
      "name": "python"
    }
  },
  "cells": [
    {
      "cell_type": "markdown",
      "metadata": {
        "id": "view-in-github",
        "colab_type": "text"
      },
      "source": [
        "<a href=\"https://colab.research.google.com/github/rfqv/ProjectML_Python/blob/programPredCuaca/AplikasiPrediksiCuaca_LatML.ipynb\" target=\"_parent\"><img src=\"https://colab.research.google.com/assets/colab-badge.svg\" alt=\"Open In Colab\"/></a>"
      ]
    },
    {
      "cell_type": "code",
      "execution_count": 19,
      "metadata": {
        "colab": {
          "base_uri": "https://localhost:8080/"
        },
        "id": "VEmoLj_rC5wA",
        "outputId": "20621350-c748-4b09-af49-1bc88579ef62"
      },
      "outputs": [
        {
          "output_type": "stream",
          "name": "stdout",
          "text": [
            "Collecting streamlit\n",
            "  Downloading streamlit-1.41.0-py2.py3-none-any.whl.metadata (8.5 kB)\n",
            "Collecting pyngrok\n",
            "  Downloading pyngrok-7.2.1-py3-none-any.whl.metadata (8.3 kB)\n",
            "Requirement already satisfied: altair<6,>=4.0 in /usr/local/lib/python3.10/dist-packages (from streamlit) (5.5.0)\n",
            "Requirement already satisfied: blinker<2,>=1.0.0 in /usr/local/lib/python3.10/dist-packages (from streamlit) (1.9.0)\n",
            "Requirement already satisfied: cachetools<6,>=4.0 in /usr/local/lib/python3.10/dist-packages (from streamlit) (5.5.0)\n",
            "Requirement already satisfied: click<9,>=7.0 in /usr/local/lib/python3.10/dist-packages (from streamlit) (8.1.7)\n",
            "Requirement already satisfied: numpy<3,>=1.23 in /usr/local/lib/python3.10/dist-packages (from streamlit) (1.26.4)\n",
            "Requirement already satisfied: packaging<25,>=20 in /usr/local/lib/python3.10/dist-packages (from streamlit) (24.2)\n",
            "Requirement already satisfied: pandas<3,>=1.4.0 in /usr/local/lib/python3.10/dist-packages (from streamlit) (2.2.2)\n",
            "Requirement already satisfied: pillow<12,>=7.1.0 in /usr/local/lib/python3.10/dist-packages (from streamlit) (11.0.0)\n",
            "Requirement already satisfied: protobuf<6,>=3.20 in /usr/local/lib/python3.10/dist-packages (from streamlit) (4.25.5)\n",
            "Requirement already satisfied: pyarrow>=7.0 in /usr/local/lib/python3.10/dist-packages (from streamlit) (17.0.0)\n",
            "Requirement already satisfied: requests<3,>=2.27 in /usr/local/lib/python3.10/dist-packages (from streamlit) (2.32.3)\n",
            "Requirement already satisfied: rich<14,>=10.14.0 in /usr/local/lib/python3.10/dist-packages (from streamlit) (13.9.4)\n",
            "Requirement already satisfied: tenacity<10,>=8.1.0 in /usr/local/lib/python3.10/dist-packages (from streamlit) (9.0.0)\n",
            "Requirement already satisfied: toml<2,>=0.10.1 in /usr/local/lib/python3.10/dist-packages (from streamlit) (0.10.2)\n",
            "Requirement already satisfied: typing-extensions<5,>=4.3.0 in /usr/local/lib/python3.10/dist-packages (from streamlit) (4.12.2)\n",
            "Collecting watchdog<7,>=2.1.5 (from streamlit)\n",
            "  Downloading watchdog-6.0.0-py3-none-manylinux2014_x86_64.whl.metadata (44 kB)\n",
            "\u001b[2K     \u001b[90m━━━━━━━━━━━━━━━━━━━━━━━━━━━━━━━━━━━━━━━━\u001b[0m \u001b[32m44.3/44.3 kB\u001b[0m \u001b[31m1.8 MB/s\u001b[0m eta \u001b[36m0:00:00\u001b[0m\n",
            "\u001b[?25hRequirement already satisfied: gitpython!=3.1.19,<4,>=3.0.7 in /usr/local/lib/python3.10/dist-packages (from streamlit) (3.1.43)\n",
            "Collecting pydeck<1,>=0.8.0b4 (from streamlit)\n",
            "  Downloading pydeck-0.9.1-py2.py3-none-any.whl.metadata (4.1 kB)\n",
            "Requirement already satisfied: tornado<7,>=6.0.3 in /usr/local/lib/python3.10/dist-packages (from streamlit) (6.3.3)\n",
            "Requirement already satisfied: PyYAML>=5.1 in /usr/local/lib/python3.10/dist-packages (from pyngrok) (6.0.2)\n",
            "Requirement already satisfied: jinja2 in /usr/local/lib/python3.10/dist-packages (from altair<6,>=4.0->streamlit) (3.1.4)\n",
            "Requirement already satisfied: jsonschema>=3.0 in /usr/local/lib/python3.10/dist-packages (from altair<6,>=4.0->streamlit) (4.23.0)\n",
            "Requirement already satisfied: narwhals>=1.14.2 in /usr/local/lib/python3.10/dist-packages (from altair<6,>=4.0->streamlit) (1.16.0)\n",
            "Requirement already satisfied: gitdb<5,>=4.0.1 in /usr/local/lib/python3.10/dist-packages (from gitpython!=3.1.19,<4,>=3.0.7->streamlit) (4.0.11)\n",
            "Requirement already satisfied: python-dateutil>=2.8.2 in /usr/local/lib/python3.10/dist-packages (from pandas<3,>=1.4.0->streamlit) (2.8.2)\n",
            "Requirement already satisfied: pytz>=2020.1 in /usr/local/lib/python3.10/dist-packages (from pandas<3,>=1.4.0->streamlit) (2024.2)\n",
            "Requirement already satisfied: tzdata>=2022.7 in /usr/local/lib/python3.10/dist-packages (from pandas<3,>=1.4.0->streamlit) (2024.2)\n",
            "Requirement already satisfied: charset-normalizer<4,>=2 in /usr/local/lib/python3.10/dist-packages (from requests<3,>=2.27->streamlit) (3.4.0)\n",
            "Requirement already satisfied: idna<4,>=2.5 in /usr/local/lib/python3.10/dist-packages (from requests<3,>=2.27->streamlit) (2.10)\n",
            "Requirement already satisfied: urllib3<3,>=1.21.1 in /usr/local/lib/python3.10/dist-packages (from requests<3,>=2.27->streamlit) (2.2.3)\n",
            "Requirement already satisfied: certifi>=2017.4.17 in /usr/local/lib/python3.10/dist-packages (from requests<3,>=2.27->streamlit) (2024.8.30)\n",
            "Requirement already satisfied: markdown-it-py>=2.2.0 in /usr/local/lib/python3.10/dist-packages (from rich<14,>=10.14.0->streamlit) (3.0.0)\n",
            "Requirement already satisfied: pygments<3.0.0,>=2.13.0 in /usr/local/lib/python3.10/dist-packages (from rich<14,>=10.14.0->streamlit) (2.18.0)\n",
            "Requirement already satisfied: smmap<6,>=3.0.1 in /usr/local/lib/python3.10/dist-packages (from gitdb<5,>=4.0.1->gitpython!=3.1.19,<4,>=3.0.7->streamlit) (5.0.1)\n",
            "Requirement already satisfied: MarkupSafe>=2.0 in /usr/local/lib/python3.10/dist-packages (from jinja2->altair<6,>=4.0->streamlit) (3.0.2)\n",
            "Requirement already satisfied: attrs>=22.2.0 in /usr/local/lib/python3.10/dist-packages (from jsonschema>=3.0->altair<6,>=4.0->streamlit) (24.2.0)\n",
            "Requirement already satisfied: jsonschema-specifications>=2023.03.6 in /usr/local/lib/python3.10/dist-packages (from jsonschema>=3.0->altair<6,>=4.0->streamlit) (2024.10.1)\n",
            "Requirement already satisfied: referencing>=0.28.4 in /usr/local/lib/python3.10/dist-packages (from jsonschema>=3.0->altair<6,>=4.0->streamlit) (0.35.1)\n",
            "Requirement already satisfied: rpds-py>=0.7.1 in /usr/local/lib/python3.10/dist-packages (from jsonschema>=3.0->altair<6,>=4.0->streamlit) (0.22.3)\n",
            "Requirement already satisfied: mdurl~=0.1 in /usr/local/lib/python3.10/dist-packages (from markdown-it-py>=2.2.0->rich<14,>=10.14.0->streamlit) (0.1.2)\n",
            "Requirement already satisfied: six>=1.5 in /usr/local/lib/python3.10/dist-packages (from python-dateutil>=2.8.2->pandas<3,>=1.4.0->streamlit) (1.17.0)\n",
            "Downloading streamlit-1.41.0-py2.py3-none-any.whl (23.4 MB)\n",
            "\u001b[2K   \u001b[90m━━━━━━━━━━━━━━━━━━━━━━━━━━━━━━━━━━━━━━━━\u001b[0m \u001b[32m23.4/23.4 MB\u001b[0m \u001b[31m50.7 MB/s\u001b[0m eta \u001b[36m0:00:00\u001b[0m\n",
            "\u001b[?25hDownloading pyngrok-7.2.1-py3-none-any.whl (22 kB)\n",
            "Downloading pydeck-0.9.1-py2.py3-none-any.whl (6.9 MB)\n",
            "\u001b[2K   \u001b[90m━━━━━━━━━━━━━━━━━━━━━━━━━━━━━━━━━━━━━━━━\u001b[0m \u001b[32m6.9/6.9 MB\u001b[0m \u001b[31m66.3 MB/s\u001b[0m eta \u001b[36m0:00:00\u001b[0m\n",
            "\u001b[?25hDownloading watchdog-6.0.0-py3-none-manylinux2014_x86_64.whl (79 kB)\n",
            "\u001b[2K   \u001b[90m━━━━━━━━━━━━━━━━━━━━━━━━━━━━━━━━━━━━━━━━\u001b[0m \u001b[32m79.1/79.1 kB\u001b[0m \u001b[31m5.7 MB/s\u001b[0m eta \u001b[36m0:00:00\u001b[0m\n",
            "\u001b[?25hInstalling collected packages: watchdog, pyngrok, pydeck, streamlit\n",
            "Successfully installed pydeck-0.9.1 pyngrok-7.2.1 streamlit-1.41.0 watchdog-6.0.0\n"
          ]
        }
      ],
      "source": [
        "!pip install streamlit pyngrok"
      ]
    },
    {
      "cell_type": "code",
      "source": [
        "#!pip install --upgrade pyngrok"
      ],
      "metadata": {
        "colab": {
          "base_uri": "https://localhost:8080/"
        },
        "id": "3Z6m7Pw9TePO",
        "outputId": "4d3bc080-f823-413b-d4ca-94ad2080fc14"
      },
      "execution_count": 25,
      "outputs": [
        {
          "output_type": "stream",
          "name": "stdout",
          "text": [
            "Requirement already satisfied: pyngrok in /usr/local/lib/python3.10/dist-packages (7.2.1)\n",
            "Requirement already satisfied: PyYAML>=5.1 in /usr/local/lib/python3.10/dist-packages (from pyngrok) (6.0.2)\n"
          ]
        }
      ]
    },
    {
      "cell_type": "code",
      "source": [
        "pip install requests"
      ],
      "metadata": {
        "colab": {
          "base_uri": "https://localhost:8080/"
        },
        "id": "XXHt_d3_DA5O",
        "outputId": "017bd48d-9e71-43c9-cb83-0d5262175bb9"
      },
      "execution_count": 1,
      "outputs": [
        {
          "output_type": "stream",
          "name": "stdout",
          "text": [
            "Requirement already satisfied: requests in /usr/local/lib/python3.10/dist-packages (2.32.3)\n",
            "Requirement already satisfied: charset-normalizer<4,>=2 in /usr/local/lib/python3.10/dist-packages (from requests) (3.4.0)\n",
            "Requirement already satisfied: idna<4,>=2.5 in /usr/local/lib/python3.10/dist-packages (from requests) (2.10)\n",
            "Requirement already satisfied: urllib3<3,>=1.21.1 in /usr/local/lib/python3.10/dist-packages (from requests) (2.2.3)\n",
            "Requirement already satisfied: certifi>=2017.4.17 in /usr/local/lib/python3.10/dist-packages (from requests) (2024.8.30)\n"
          ]
        }
      ]
    },
    {
      "cell_type": "code",
      "source": [
        "pip install googletrans==4.0.0-rc1"
      ],
      "metadata": {
        "colab": {
          "base_uri": "https://localhost:8080/"
        },
        "id": "Phlze1jVHm1M",
        "outputId": "af5deaca-8df3-44a6-807e-5275ade22554"
      },
      "execution_count": 2,
      "outputs": [
        {
          "output_type": "stream",
          "name": "stdout",
          "text": [
            "Requirement already satisfied: googletrans==4.0.0-rc1 in /usr/local/lib/python3.10/dist-packages (4.0.0rc1)\n",
            "Requirement already satisfied: httpx==0.13.3 in /usr/local/lib/python3.10/dist-packages (from googletrans==4.0.0-rc1) (0.13.3)\n",
            "Requirement already satisfied: certifi in /usr/local/lib/python3.10/dist-packages (from httpx==0.13.3->googletrans==4.0.0-rc1) (2024.8.30)\n",
            "Requirement already satisfied: hstspreload in /usr/local/lib/python3.10/dist-packages (from httpx==0.13.3->googletrans==4.0.0-rc1) (2024.12.1)\n",
            "Requirement already satisfied: sniffio in /usr/local/lib/python3.10/dist-packages (from httpx==0.13.3->googletrans==4.0.0-rc1) (1.3.1)\n",
            "Requirement already satisfied: chardet==3.* in /usr/local/lib/python3.10/dist-packages (from httpx==0.13.3->googletrans==4.0.0-rc1) (3.0.4)\n",
            "Requirement already satisfied: idna==2.* in /usr/local/lib/python3.10/dist-packages (from httpx==0.13.3->googletrans==4.0.0-rc1) (2.10)\n",
            "Requirement already satisfied: rfc3986<2,>=1.3 in /usr/local/lib/python3.10/dist-packages (from httpx==0.13.3->googletrans==4.0.0-rc1) (1.5.0)\n",
            "Requirement already satisfied: httpcore==0.9.* in /usr/local/lib/python3.10/dist-packages (from httpx==0.13.3->googletrans==4.0.0-rc1) (0.9.1)\n",
            "Requirement already satisfied: h11<0.10,>=0.8 in /usr/local/lib/python3.10/dist-packages (from httpcore==0.9.*->httpx==0.13.3->googletrans==4.0.0-rc1) (0.9.0)\n",
            "Requirement already satisfied: h2==3.* in /usr/local/lib/python3.10/dist-packages (from httpcore==0.9.*->httpx==0.13.3->googletrans==4.0.0-rc1) (3.2.0)\n",
            "Requirement already satisfied: hyperframe<6,>=5.2.0 in /usr/local/lib/python3.10/dist-packages (from h2==3.*->httpcore==0.9.*->httpx==0.13.3->googletrans==4.0.0-rc1) (5.2.0)\n",
            "Requirement already satisfied: hpack<4,>=3.0 in /usr/local/lib/python3.10/dist-packages (from h2==3.*->httpcore==0.9.*->httpx==0.13.3->googletrans==4.0.0-rc1) (3.0.0)\n"
          ]
        }
      ]
    },
    {
      "cell_type": "code",
      "source": [
        "import requests\n",
        "from googletrans import Translator\n",
        "from datetime import datetime, timedelta\n",
        "\n",
        "# Fungsi untuk mendapatkan City ID berdasarkan nama kota\n",
        "def get_city_id(nama_kota, api_key='b99436d0ae93e7f8911a9e42f17c5ad2'):\n",
        "    base_url = f\"http://api.openweathermap.org/data/2.5/weather?q={nama_kota}&appid={api_key}\"\n",
        "\n",
        "    try:\n",
        "        response = requests.get(base_url)\n",
        "        data = response.json()\n",
        "\n",
        "        if response.status_code == 200:\n",
        "            id_kota = data['id']\n",
        "            return id_kota\n",
        "        else:\n",
        "            return None  # Jika kota tidak ditemukan\n",
        "    except Exception as e:\n",
        "        print(f\"Error: {e}\")\n",
        "        return None\n",
        "\n",
        "# Fungsi untuk menerjemahkan deskripsi cuaca ke Bahasa Indonesia\n",
        "def translate_description(description, dest_language='id'):\n",
        "    translator = Translator()\n",
        "    try:\n",
        "        translated = translator.translate(description, dest=dest_language)\n",
        "        return translated.text\n",
        "    except Exception as e:\n",
        "        print(f\"Error during translation: {e}\")\n",
        "        return description  # Jika terjadi error, kembalikan deskripsi aslinya\n",
        "\n",
        "# Fungsi untuk mengonversi waktu UTC ke waktu lokal berdasarkan timezone offset\n",
        "def convert_utc_to_local(utc_time, timezone_offset):\n",
        "    utc_dt = datetime.utcfromtimestamp(utc_time)  # Konversi dari Unix timestamp ke UTC datetime\n",
        "    local_dt = utc_dt + timedelta(seconds=timezone_offset)  # Tambahkan offset zona waktu dalam detik\n",
        "    return local_dt\n",
        "\n",
        "# Fungsi untuk mendapatkan cuaca berdasarkan City ID\n",
        "def get_weather_by_city_id(id_kota, api_key='b99436d0ae93e7f8911a9e42f17c5ad2'):\n",
        "    base_url = f\"http://api.openweathermap.org/data/2.5/forecast?id={id_kota}&appid={api_key}&units=metric\"\n",
        "\n",
        "    try:\n",
        "        response = requests.get(base_url)\n",
        "        data = response.json()\n",
        "\n",
        "        if response.status_code == 200:\n",
        "            nama_kota = data['city']['name']\n",
        "            negara = data['city']['country']\n",
        "            timezone_offset = data['city']['timezone']  # Mendapatkan offset zona waktu dalam detik\n",
        "            weather_forecast = data['list'][0]  # Ambil forecast pertama (3 jam ke depan)\n",
        "\n",
        "            temp = weather_forecast['main']['temp']\n",
        "            feels_like = weather_forecast['main']['feels_like']\n",
        "            humidity = weather_forecast['main']['humidity']\n",
        "            wind_speed = weather_forecast['wind']['speed']\n",
        "            wind_deg = weather_forecast['wind']['deg']\n",
        "            visibility = weather_forecast.get('visibility', 'Tidak tersedia')\n",
        "            pressure = weather_forecast['main']['pressure']\n",
        "            weather_desc = weather_forecast['weather'][0]['description']\n",
        "\n",
        "            weather_desc_id = translate_description(weather_desc, dest_language='id')\n",
        "\n",
        "            # Mendapatkan waktu matahari terbit dan terbenam (dalam UTC)\n",
        "            current_weather_url = f\"http://api.openweathermap.org/data/2.5/weather?id={id_kota}&appid={api_key}&units=metric\"\n",
        "            current_weather_response = requests.get(current_weather_url)\n",
        "            current_weather_data = current_weather_response.json()\n",
        "\n",
        "            sunrise_utc = current_weather_data['sys']['sunrise']  # Matahari terbit dalam UTC\n",
        "            sunset_utc = current_weather_data['sys']['sunset']  # Matahari terbenam dalam UTC\n",
        "\n",
        "            # Konversi waktu matahari terbit dan terbenam ke waktu lokal\n",
        "            sunrise_local = convert_utc_to_local(sunrise_utc, timezone_offset)\n",
        "            sunset_local = convert_utc_to_local(sunset_utc, timezone_offset)\n",
        "\n",
        "            # Menghitung GMT offset untuk menampilkan (dalam jam)\n",
        "            gmt_offset = timezone_offset // 3600\n",
        "            gmt_sign = \"+\" if gmt_offset >= 0 else \"-\"\n",
        "            gmt_offset_str = f\"GMT{gmt_sign}{abs(gmt_offset):02d}:00\"\n",
        "\n",
        "            result = f\"\"\"\n",
        "            Laporan Prediksi Cuaca untuk Kota {nama_kota}, {negara} ({gmt_offset_str}):\n",
        "            ---------------------------------------\n",
        "            Suhu: {temp}\\u00b0C\n",
        "            Terasa seperti: {feels_like}\\u00b0C\n",
        "            Kelembaban: {humidity}%\n",
        "            Tekanan Udara: {pressure} hPa\n",
        "            Kecepatan Angin: {wind_speed} m/s\n",
        "            Arah Angin: {wind_deg}\\u00b0\n",
        "            Visibilitas: {visibility} meter\n",
        "            Matahari Terbit: {sunrise_local} (Waktu Lokal)\n",
        "            Matahari Terbenam: {sunset_local} (Waktu Lokal)\n",
        "            Kondisi: {weather_desc_id}\n",
        "            \"\"\"\n",
        "            return result\n",
        "        else:\n",
        "            return f\"Error: {data['message']} (Code: {data['cod']})\"\n",
        "    except Exception as e:\n",
        "        return f\"Error: {e}\"\n",
        "\n",
        "def show_weather_by_city_name():\n",
        "    while True:\n",
        "        nama_kota = input(\"Masukkan nama kota (atau ketik 'keluar' untuk keluar): \")\n",
        "        if nama_kota.lower() == 'keluar':\n",
        "            print(\"Program dihentikan. Terima kasih!\")\n",
        "            break\n",
        "\n",
        "        if nama_kota:\n",
        "            api_key = 'b99436d0ae93e7f8911a9e42f17c5ad2'\n",
        "            id_kota = get_city_id(nama_kota, api_key)\n",
        "\n",
        "            if id_kota:\n",
        "                weather = get_weather_by_city_id(id_kota, api_key)\n",
        "                print(weather)\n",
        "            else:\n",
        "                print(\"Kota tidak ditemukan! Harap periksa ejaan atau coba kota lain.\")\n",
        "        else:\n",
        "            print(\"Harap masukkan nama kota!\")\n",
        "\n",
        "# Panggil kode ini untuk menjalankan program\n",
        "show_weather_by_city_name()\n"
      ],
      "metadata": {
        "colab": {
          "base_uri": "https://localhost:8080/"
        },
        "id": "XIlFsOFjDK6R",
        "outputId": "0d474b9f-b262-46a5-b85b-2bf27a68e4c1"
      },
      "execution_count": 29,
      "outputs": [
        {
          "output_type": "stream",
          "name": "stdout",
          "text": [
            "Masukkan nama kota (atau ketik 'keluar' untuk keluar): Jakarta\n",
            "\n",
            "            Laporan Prediksi Cuaca untuk Kota Jakarta, ID (GMT+07:00):\n",
            "            ---------------------------------------\n",
            "            Suhu: 30.97°C\n",
            "            Terasa seperti: 35.03°C\n",
            "            Kelembaban: 61%\n",
            "            Tekanan Udara: 1005 hPa\n",
            "            Kecepatan Angin: 5.77 m/s\n",
            "            Arah Angin: 241°\n",
            "            Visibilitas: 10000 meter\n",
            "            Matahari Terbit: 2024-12-13 05:32:36 (Waktu Lokal)\n",
            "            Matahari Terbenam: 2024-12-13 18:01:14 (Waktu Lokal)\n",
            "            Kondisi: Awan yang rusak\n",
            "            \n",
            "Masukkan nama kota (atau ketik 'keluar' untuk keluar): keluar\n",
            "Program dihentikan. Terima kasih!\n"
          ]
        }
      ]
    }
  ]
}